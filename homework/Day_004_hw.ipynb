{
 "cells": [
  {
   "cell_type": "markdown",
   "metadata": {},
   "source": [
    "# Julia 數值系統介紹\n",
    "\n",
    "## Day 004 作業\n",
    "\n",
    "今天的內容提到整數及浮點數型別之最小值和最大值：\n",
    "\n",
    "|是否有正負號|型別|<div style=\"width:120px\">最大值</div>|<div style=\"width:120px\">最小值</div>|\n",
    "|---|---|---|---|\n",
    "|有|Int128, Int64, Int32, Int16, Int8|$2^{位元數-1}-1$|$-2^{位元數-1}$|\n",
    "|無|UInt128, UInt64, UInt32, UInt16, UInt8|$2^{位元數}-1$|$0$|\n",
    "\n",
    "|型別|最小值|最大值|\n",
    "|---|---|---|\n",
    "|`Float64`|-Inf|Inf|\n",
    "|`Float32`|-Inf 或 -Inf32|Inf 或 Inf32|\n",
    "|`Float16`|-Inf 或 -Inf16|Inf 或 Inf16|\n",
    "\n",
    "### 作業：範例程式示範了 Int64 及 Float64 的最小值和最大值，作業請列出並觀察其他整數及浮點數型別的最小值和最大值。"
   ]
  },
  {
   "cell_type": "markdown",
   "metadata": {},
   "source": [
    "呼叫 `typemin()` 及 `typemax()` 函式得到各型別的最小值和最大值。\n",
    "\n",
    "列出 Int128, Int32, Int16, Int8, UInt128, UInt64, UInt32, UInt16, UInt8 整數型別的最小值及最大值"
   ]
  },
  {
   "cell_type": "code",
   "execution_count": 1,
   "metadata": {},
   "outputs": [
    {
     "name": "stdout",
     "output_type": "stream",
     "text": [
      "Int128 : -170141183460469231731687303715884105728 ~ 170141183460469231731687303715884105727\n",
      "Int32  : -2147483648 ~ 2147483647\n",
      "Int16  : -32768 ~ 32767\n",
      "Int16  : -128 ~ 127\n",
      "UInt128: 0\t~\t340282366920938463463374607431768211455\n",
      "UInt32 : 0\t~\t4294967295\n",
      "UInt16 : 0\t~\t65535\n",
      "UInt16 : 0\t~\t255\n"
     ]
    }
   ],
   "source": [
    "println(\"Int128 : \", typemin(Int128), \" ~ \", typemax(Int128))\n",
    "println(\"Int32  : \", typemin(Int32),  \" ~ \", typemax(Int32))\n",
    "println(\"Int16  : \", typemin(Int16),  \" ~ \", typemax(Int16))\n",
    "println(\"Int16  : \", typemin(Int8),   \" ~ \", typemax(Int8))\n",
    "println(\"UInt128: \", typemin(UInt128),\"\\t~\\t\", typemax(UInt128))\n",
    "println(\"UInt32 : \", typemin(UInt32), \"\\t~\\t\", typemax(UInt32))\n",
    "println(\"UInt16 : \", typemin(UInt16), \"\\t~\\t\", typemax(UInt16))\n",
    "println(\"UInt16 : \", typemin(UInt8),  \"\\t~\\t\", typemax(UInt8))"
   ]
  },
  {
   "cell_type": "markdown",
   "metadata": {},
   "source": [
    "列出 Float32, Float16 浮點數型別的最小和最大值"
   ]
  },
  {
   "cell_type": "code",
   "execution_count": 2,
   "metadata": {},
   "outputs": [
    {
     "name": "stdout",
     "output_type": "stream",
     "text": [
      "Float32:\t-Inf ~ Inf\n",
      "Float16:\t-Inf ~ Inf\n"
     ]
    }
   ],
   "source": [
    "println(\"Float32:\\t\", typemin(Float32), \" ~ \", typemax(Float32))\n",
    "println(\"Float16:\\t\", typemin(Float16), \" ~ \", typemax(Float16))"
   ]
  },
  {
   "cell_type": "code",
   "execution_count": null,
   "metadata": {},
   "outputs": [],
   "source": []
  }
 ],
 "metadata": {
  "@webio": {
   "lastCommId": null,
   "lastKernelId": null
  },
  "kernelspec": {
   "display_name": "Julia 1.2.0",
   "language": "julia",
   "name": "julia-1.2"
  },
  "language_info": {
   "file_extension": ".jl",
   "mimetype": "application/julia",
   "name": "julia",
   "version": "1.2.0"
  }
 },
 "nbformat": 4,
 "nbformat_minor": 4
}
