{
 "cells": [
  {
   "cell_type": "markdown",
   "metadata": {},
   "source": [
    "# Julia 機器學習：GLM 線性迴歸\n",
    "\n",
    "## 作業 027：波士頓房價預測資料集\n",
    "\n",
    "請使用 GLM 中的模型，建立一個預測模型來預測波士頓的房價。"
   ]
  },
  {
   "cell_type": "code",
   "execution_count": 1,
   "metadata": {},
   "outputs": [],
   "source": [
    "using GLM, RDatasets, MLDataUtils"
   ]
  },
  {
   "cell_type": "markdown",
   "metadata": {},
   "source": [
    "## 讀取資料"
   ]
  },
  {
   "cell_type": "code",
   "execution_count": 2,
   "metadata": {},
   "outputs": [
    {
     "data": {
      "text/html": [
       "<table class=\"data-frame\"><thead><tr><th></th><th>Crim</th><th>Zn</th><th>Indus</th><th>Chas</th><th>NOx</th><th>Rm</th><th>Age</th><th>Dis</th><th>Rad</th><th>Tax</th></tr><tr><th></th><th>Float64</th><th>Float64</th><th>Float64</th><th>Int64</th><th>Float64</th><th>Float64</th><th>Float64</th><th>Float64</th><th>Int64</th><th>Int64</th></tr></thead><tbody><p>10 rows × 14 columns (omitted printing of 4 columns)</p><tr><th>1</th><td>0.00632</td><td>18.0</td><td>2.31</td><td>0</td><td>0.538</td><td>6.575</td><td>65.2</td><td>4.09</td><td>1</td><td>296</td></tr><tr><th>2</th><td>0.02731</td><td>0.0</td><td>7.07</td><td>0</td><td>0.469</td><td>6.421</td><td>78.9</td><td>4.9671</td><td>2</td><td>242</td></tr><tr><th>3</th><td>0.02729</td><td>0.0</td><td>7.07</td><td>0</td><td>0.469</td><td>7.185</td><td>61.1</td><td>4.9671</td><td>2</td><td>242</td></tr><tr><th>4</th><td>0.03237</td><td>0.0</td><td>2.18</td><td>0</td><td>0.458</td><td>6.998</td><td>45.8</td><td>6.0622</td><td>3</td><td>222</td></tr><tr><th>5</th><td>0.06905</td><td>0.0</td><td>2.18</td><td>0</td><td>0.458</td><td>7.147</td><td>54.2</td><td>6.0622</td><td>3</td><td>222</td></tr><tr><th>6</th><td>0.02985</td><td>0.0</td><td>2.18</td><td>0</td><td>0.458</td><td>6.43</td><td>58.7</td><td>6.0622</td><td>3</td><td>222</td></tr><tr><th>7</th><td>0.08829</td><td>12.5</td><td>7.87</td><td>0</td><td>0.524</td><td>6.012</td><td>66.6</td><td>5.5605</td><td>5</td><td>311</td></tr><tr><th>8</th><td>0.14455</td><td>12.5</td><td>7.87</td><td>0</td><td>0.524</td><td>6.172</td><td>96.1</td><td>5.9505</td><td>5</td><td>311</td></tr><tr><th>9</th><td>0.21124</td><td>12.5</td><td>7.87</td><td>0</td><td>0.524</td><td>5.631</td><td>100.0</td><td>6.0821</td><td>5</td><td>311</td></tr><tr><th>10</th><td>0.17004</td><td>12.5</td><td>7.87</td><td>0</td><td>0.524</td><td>6.004</td><td>85.9</td><td>6.5921</td><td>5</td><td>311</td></tr></tbody></table>"
      ],
      "text/latex": [
       "\\begin{tabular}{r|ccccccccccc}\n",
       "\t& Crim & Zn & Indus & Chas & NOx & Rm & Age & Dis & Rad & Tax & \\\\\n",
       "\t\\hline\n",
       "\t& Float64 & Float64 & Float64 & Int64 & Float64 & Float64 & Float64 & Float64 & Int64 & Int64 & \\\\\n",
       "\t\\hline\n",
       "\t1 & 0.00632 & 18.0 & 2.31 & 0 & 0.538 & 6.575 & 65.2 & 4.09 & 1 & 296 & $\\dots$ \\\\\n",
       "\t2 & 0.02731 & 0.0 & 7.07 & 0 & 0.469 & 6.421 & 78.9 & 4.9671 & 2 & 242 & $\\dots$ \\\\\n",
       "\t3 & 0.02729 & 0.0 & 7.07 & 0 & 0.469 & 7.185 & 61.1 & 4.9671 & 2 & 242 & $\\dots$ \\\\\n",
       "\t4 & 0.03237 & 0.0 & 2.18 & 0 & 0.458 & 6.998 & 45.8 & 6.0622 & 3 & 222 & $\\dots$ \\\\\n",
       "\t5 & 0.06905 & 0.0 & 2.18 & 0 & 0.458 & 7.147 & 54.2 & 6.0622 & 3 & 222 & $\\dots$ \\\\\n",
       "\t6 & 0.02985 & 0.0 & 2.18 & 0 & 0.458 & 6.43 & 58.7 & 6.0622 & 3 & 222 & $\\dots$ \\\\\n",
       "\t7 & 0.08829 & 12.5 & 7.87 & 0 & 0.524 & 6.012 & 66.6 & 5.5605 & 5 & 311 & $\\dots$ \\\\\n",
       "\t8 & 0.14455 & 12.5 & 7.87 & 0 & 0.524 & 6.172 & 96.1 & 5.9505 & 5 & 311 & $\\dots$ \\\\\n",
       "\t9 & 0.21124 & 12.5 & 7.87 & 0 & 0.524 & 5.631 & 100.0 & 6.0821 & 5 & 311 & $\\dots$ \\\\\n",
       "\t10 & 0.17004 & 12.5 & 7.87 & 0 & 0.524 & 6.004 & 85.9 & 6.5921 & 5 & 311 & $\\dots$ \\\\\n",
       "\\end{tabular}\n"
      ],
      "text/plain": [
       "10×14 DataFrame. Omitted printing of 7 columns\n",
       "│ Row │ Crim    │ Zn      │ Indus   │ Chas  │ NOx     │ Rm      │ Age     │\n",
       "│     │ \u001b[90mFloat64\u001b[39m │ \u001b[90mFloat64\u001b[39m │ \u001b[90mFloat64\u001b[39m │ \u001b[90mInt64\u001b[39m │ \u001b[90mFloat64\u001b[39m │ \u001b[90mFloat64\u001b[39m │ \u001b[90mFloat64\u001b[39m │\n",
       "├─────┼─────────┼─────────┼─────────┼───────┼─────────┼─────────┼─────────┤\n",
       "│ 1   │ 0.00632 │ 18.0    │ 2.31    │ 0     │ 0.538   │ 6.575   │ 65.2    │\n",
       "│ 2   │ 0.02731 │ 0.0     │ 7.07    │ 0     │ 0.469   │ 6.421   │ 78.9    │\n",
       "│ 3   │ 0.02729 │ 0.0     │ 7.07    │ 0     │ 0.469   │ 7.185   │ 61.1    │\n",
       "│ 4   │ 0.03237 │ 0.0     │ 2.18    │ 0     │ 0.458   │ 6.998   │ 45.8    │\n",
       "│ 5   │ 0.06905 │ 0.0     │ 2.18    │ 0     │ 0.458   │ 7.147   │ 54.2    │\n",
       "│ 6   │ 0.02985 │ 0.0     │ 2.18    │ 0     │ 0.458   │ 6.43    │ 58.7    │\n",
       "│ 7   │ 0.08829 │ 12.5    │ 7.87    │ 0     │ 0.524   │ 6.012   │ 66.6    │\n",
       "│ 8   │ 0.14455 │ 12.5    │ 7.87    │ 0     │ 0.524   │ 6.172   │ 96.1    │\n",
       "│ 9   │ 0.21124 │ 12.5    │ 7.87    │ 0     │ 0.524   │ 5.631   │ 100.0   │\n",
       "│ 10  │ 0.17004 │ 12.5    │ 7.87    │ 0     │ 0.524   │ 6.004   │ 85.9    │"
      ]
     },
     "execution_count": 2,
     "metadata": {},
     "output_type": "execute_result"
    }
   ],
   "source": [
    "boston = dataset(\"MASS\", \"Boston\")\n",
    "first(boston, 10)"
   ]
  },
  {
   "cell_type": "code",
   "execution_count": 3,
   "metadata": {},
   "outputs": [
    {
     "data": {
      "text/plain": [
       "14-element Array{Symbol,1}:\n",
       " :Crim   \n",
       " :Zn     \n",
       " :Indus  \n",
       " :Chas   \n",
       " :NOx    \n",
       " :Rm     \n",
       " :Age    \n",
       " :Dis    \n",
       " :Rad    \n",
       " :Tax    \n",
       " :PTRatio\n",
       " :Black  \n",
       " :LStat  \n",
       " :MedV   "
      ]
     },
     "execution_count": 3,
     "metadata": {},
     "output_type": "execute_result"
    }
   ],
   "source": [
    "names(boston)"
   ]
  },
  {
   "cell_type": "code",
   "execution_count": 4,
   "metadata": {
    "scrolled": true
   },
   "outputs": [
    {
     "data": {
      "text/html": [
       "<table class=\"data-frame\"><thead><tr><th></th><th>variable</th><th>mean</th><th>min</th><th>median</th><th>max</th><th>nunique</th><th>nmissing</th><th>eltype</th></tr><tr><th></th><th>Symbol</th><th>Float64</th><th>Real</th><th>Float64</th><th>Real</th><th>Nothing</th><th>Nothing</th><th>DataType</th></tr></thead><tbody><p>14 rows × 8 columns</p><tr><th>1</th><td>Crim</td><td>3.61352</td><td>0.00632</td><td>0.25651</td><td>88.9762</td><td></td><td></td><td>Float64</td></tr><tr><th>2</th><td>Zn</td><td>11.3636</td><td>0.0</td><td>0.0</td><td>100.0</td><td></td><td></td><td>Float64</td></tr><tr><th>3</th><td>Indus</td><td>11.1368</td><td>0.46</td><td>9.69</td><td>27.74</td><td></td><td></td><td>Float64</td></tr><tr><th>4</th><td>Chas</td><td>0.06917</td><td>0</td><td>0.0</td><td>1</td><td></td><td></td><td>Int64</td></tr><tr><th>5</th><td>NOx</td><td>0.554695</td><td>0.385</td><td>0.538</td><td>0.871</td><td></td><td></td><td>Float64</td></tr><tr><th>6</th><td>Rm</td><td>6.28463</td><td>3.561</td><td>6.2085</td><td>8.78</td><td></td><td></td><td>Float64</td></tr><tr><th>7</th><td>Age</td><td>68.5749</td><td>2.9</td><td>77.5</td><td>100.0</td><td></td><td></td><td>Float64</td></tr><tr><th>8</th><td>Dis</td><td>3.79504</td><td>1.1296</td><td>3.20745</td><td>12.1265</td><td></td><td></td><td>Float64</td></tr><tr><th>9</th><td>Rad</td><td>9.54941</td><td>1</td><td>5.0</td><td>24</td><td></td><td></td><td>Int64</td></tr><tr><th>10</th><td>Tax</td><td>408.237</td><td>187</td><td>330.0</td><td>711</td><td></td><td></td><td>Int64</td></tr><tr><th>11</th><td>PTRatio</td><td>18.4555</td><td>12.6</td><td>19.05</td><td>22.0</td><td></td><td></td><td>Float64</td></tr><tr><th>12</th><td>Black</td><td>356.674</td><td>0.32</td><td>391.44</td><td>396.9</td><td></td><td></td><td>Float64</td></tr><tr><th>13</th><td>LStat</td><td>12.6531</td><td>1.73</td><td>11.36</td><td>37.97</td><td></td><td></td><td>Float64</td></tr><tr><th>14</th><td>MedV</td><td>22.5328</td><td>5.0</td><td>21.2</td><td>50.0</td><td></td><td></td><td>Float64</td></tr></tbody></table>"
      ],
      "text/latex": [
       "\\begin{tabular}{r|cccccccc}\n",
       "\t& variable & mean & min & median & max & nunique & nmissing & eltype\\\\\n",
       "\t\\hline\n",
       "\t& Symbol & Float64 & Real & Float64 & Real & Nothing & Nothing & DataType\\\\\n",
       "\t\\hline\n",
       "\t1 & Crim & 3.61352 & 0.00632 & 0.25651 & 88.9762 &  &  & Float64 \\\\\n",
       "\t2 & Zn & 11.3636 & 0.0 & 0.0 & 100.0 &  &  & Float64 \\\\\n",
       "\t3 & Indus & 11.1368 & 0.46 & 9.69 & 27.74 &  &  & Float64 \\\\\n",
       "\t4 & Chas & 0.06917 & 0 & 0.0 & 1 &  &  & Int64 \\\\\n",
       "\t5 & NOx & 0.554695 & 0.385 & 0.538 & 0.871 &  &  & Float64 \\\\\n",
       "\t6 & Rm & 6.28463 & 3.561 & 6.2085 & 8.78 &  &  & Float64 \\\\\n",
       "\t7 & Age & 68.5749 & 2.9 & 77.5 & 100.0 &  &  & Float64 \\\\\n",
       "\t8 & Dis & 3.79504 & 1.1296 & 3.20745 & 12.1265 &  &  & Float64 \\\\\n",
       "\t9 & Rad & 9.54941 & 1 & 5.0 & 24 &  &  & Int64 \\\\\n",
       "\t10 & Tax & 408.237 & 187 & 330.0 & 711 &  &  & Int64 \\\\\n",
       "\t11 & PTRatio & 18.4555 & 12.6 & 19.05 & 22.0 &  &  & Float64 \\\\\n",
       "\t12 & Black & 356.674 & 0.32 & 391.44 & 396.9 &  &  & Float64 \\\\\n",
       "\t13 & LStat & 12.6531 & 1.73 & 11.36 & 37.97 &  &  & Float64 \\\\\n",
       "\t14 & MedV & 22.5328 & 5.0 & 21.2 & 50.0 &  &  & Float64 \\\\\n",
       "\\end{tabular}\n"
      ],
      "text/plain": [
       "14×8 DataFrame. Omitted printing of 1 columns\n",
       "│ Row │ variable │ mean     │ min     │ median  │ max     │ nunique │ nmissing │\n",
       "│     │ \u001b[90mSymbol\u001b[39m   │ \u001b[90mFloat64\u001b[39m  │ \u001b[90mReal\u001b[39m    │ \u001b[90mFloat64\u001b[39m │ \u001b[90mReal\u001b[39m    │ \u001b[90mNothing\u001b[39m │ \u001b[90mNothing\u001b[39m  │\n",
       "├─────┼──────────┼──────────┼─────────┼─────────┼─────────┼─────────┼──────────┤\n",
       "│ 1   │ Crim     │ 3.61352  │ 0.00632 │ 0.25651 │ 88.9762 │         │          │\n",
       "│ 2   │ Zn       │ 11.3636  │ 0.0     │ 0.0     │ 100.0   │         │          │\n",
       "│ 3   │ Indus    │ 11.1368  │ 0.46    │ 9.69    │ 27.74   │         │          │\n",
       "│ 4   │ Chas     │ 0.06917  │ 0       │ 0.0     │ 1       │         │          │\n",
       "│ 5   │ NOx      │ 0.554695 │ 0.385   │ 0.538   │ 0.871   │         │          │\n",
       "│ 6   │ Rm       │ 6.28463  │ 3.561   │ 6.2085  │ 8.78    │         │          │\n",
       "│ 7   │ Age      │ 68.5749  │ 2.9     │ 77.5    │ 100.0   │         │          │\n",
       "│ 8   │ Dis      │ 3.79504  │ 1.1296  │ 3.20745 │ 12.1265 │         │          │\n",
       "│ 9   │ Rad      │ 9.54941  │ 1       │ 5.0     │ 24      │         │          │\n",
       "│ 10  │ Tax      │ 408.237  │ 187     │ 330.0   │ 711     │         │          │\n",
       "│ 11  │ PTRatio  │ 18.4555  │ 12.6    │ 19.05   │ 22.0    │         │          │\n",
       "│ 12  │ Black    │ 356.674  │ 0.32    │ 391.44  │ 396.9   │         │          │\n",
       "│ 13  │ LStat    │ 12.6531  │ 1.73    │ 11.36   │ 37.97   │         │          │\n",
       "│ 14  │ MedV     │ 22.5328  │ 5.0     │ 21.2    │ 50.0    │         │          │"
      ]
     },
     "execution_count": 4,
     "metadata": {},
     "output_type": "execute_result"
    }
   ],
   "source": [
    "describe(boston)"
   ]
  },
  {
   "cell_type": "markdown",
   "metadata": {},
   "source": [
    "## 切分訓練資料及測試資料"
   ]
  },
  {
   "cell_type": "code",
   "execution_count": 5,
   "metadata": {},
   "outputs": [],
   "source": [
    "indecies = MLDataUtils.shuffleobs(collect(1:nrow(boston)))\n",
    "train_ind, test_ind = MLDataUtils.splitobs(indecies, at = 0.8);"
   ]
  },
  {
   "cell_type": "code",
   "execution_count": 6,
   "metadata": {},
   "outputs": [
    {
     "data": {
      "text/html": [
       "<table class=\"data-frame\"><thead><tr><th></th><th>Crim</th><th>Zn</th><th>Indus</th><th>Chas</th><th>NOx</th><th>Rm</th><th>Age</th><th>Dis</th><th>Rad</th><th>Tax</th></tr><tr><th></th><th>Float64</th><th>Float64</th><th>Float64</th><th>Int64</th><th>Float64</th><th>Float64</th><th>Float64</th><th>Float64</th><th>Int64</th><th>Int64</th></tr></thead><tbody><p>101 rows × 14 columns (omitted printing of 4 columns)</p><tr><th>1</th><td>3.83684</td><td>0.0</td><td>18.1</td><td>0</td><td>0.77</td><td>6.251</td><td>91.1</td><td>2.2955</td><td>24</td><td>666</td></tr><tr><th>2</th><td>4.34879</td><td>0.0</td><td>18.1</td><td>0</td><td>0.58</td><td>6.167</td><td>84.0</td><td>3.0334</td><td>24</td><td>666</td></tr><tr><th>3</th><td>3.56868</td><td>0.0</td><td>18.1</td><td>0</td><td>0.58</td><td>6.437</td><td>75.0</td><td>2.8965</td><td>24</td><td>666</td></tr><tr><th>4</th><td>0.06905</td><td>0.0</td><td>2.18</td><td>0</td><td>0.458</td><td>7.147</td><td>54.2</td><td>6.0622</td><td>3</td><td>222</td></tr><tr><th>5</th><td>0.06076</td><td>0.0</td><td>11.93</td><td>0</td><td>0.573</td><td>6.976</td><td>91.0</td><td>2.1675</td><td>1</td><td>273</td></tr><tr><th>6</th><td>0.10574</td><td>0.0</td><td>27.74</td><td>0</td><td>0.609</td><td>5.983</td><td>98.8</td><td>1.8681</td><td>4</td><td>711</td></tr><tr><th>7</th><td>0.32264</td><td>0.0</td><td>21.89</td><td>0</td><td>0.624</td><td>5.942</td><td>93.5</td><td>1.9669</td><td>4</td><td>437</td></tr><tr><th>8</th><td>5.58107</td><td>0.0</td><td>18.1</td><td>0</td><td>0.713</td><td>6.436</td><td>87.9</td><td>2.3158</td><td>24</td><td>666</td></tr><tr><th>9</th><td>0.07244</td><td>60.0</td><td>1.69</td><td>0</td><td>0.411</td><td>5.884</td><td>18.5</td><td>10.7103</td><td>4</td><td>411</td></tr><tr><th>10</th><td>0.13642</td><td>0.0</td><td>10.59</td><td>0</td><td>0.489</td><td>5.891</td><td>22.3</td><td>3.9454</td><td>4</td><td>277</td></tr><tr><th>11</th><td>0.06466</td><td>70.0</td><td>2.24</td><td>0</td><td>0.4</td><td>6.345</td><td>20.1</td><td>7.8278</td><td>5</td><td>358</td></tr><tr><th>12</th><td>2.44953</td><td>0.0</td><td>19.58</td><td>0</td><td>0.605</td><td>6.402</td><td>95.2</td><td>2.2625</td><td>5</td><td>403</td></tr><tr><th>13</th><td>0.12579</td><td>45.0</td><td>3.44</td><td>0</td><td>0.437</td><td>6.556</td><td>29.1</td><td>4.5667</td><td>5</td><td>398</td></tr><tr><th>14</th><td>0.14231</td><td>0.0</td><td>10.01</td><td>0</td><td>0.547</td><td>6.254</td><td>84.2</td><td>2.2565</td><td>6</td><td>432</td></tr><tr><th>15</th><td>14.0507</td><td>0.0</td><td>18.1</td><td>0</td><td>0.597</td><td>6.657</td><td>100.0</td><td>1.5275</td><td>24</td><td>666</td></tr><tr><th>16</th><td>10.6718</td><td>0.0</td><td>18.1</td><td>0</td><td>0.74</td><td>6.459</td><td>94.8</td><td>1.9879</td><td>24</td><td>666</td></tr><tr><th>17</th><td>0.24103</td><td>0.0</td><td>7.38</td><td>0</td><td>0.493</td><td>6.083</td><td>43.7</td><td>5.4159</td><td>5</td><td>287</td></tr><tr><th>18</th><td>0.08707</td><td>0.0</td><td>12.83</td><td>0</td><td>0.437</td><td>6.14</td><td>45.8</td><td>4.0905</td><td>5</td><td>398</td></tr><tr><th>19</th><td>0.01538</td><td>90.0</td><td>3.75</td><td>0</td><td>0.394</td><td>7.454</td><td>34.2</td><td>6.3361</td><td>3</td><td>244</td></tr><tr><th>20</th><td>5.66998</td><td>0.0</td><td>18.1</td><td>1</td><td>0.631</td><td>6.683</td><td>96.8</td><td>1.3567</td><td>24</td><td>666</td></tr><tr><th>21</th><td>2.01019</td><td>0.0</td><td>19.58</td><td>0</td><td>0.605</td><td>7.929</td><td>96.2</td><td>2.0459</td><td>5</td><td>403</td></tr><tr><th>22</th><td>0.06263</td><td>0.0</td><td>11.93</td><td>0</td><td>0.573</td><td>6.593</td><td>69.1</td><td>2.4786</td><td>1</td><td>273</td></tr><tr><th>23</th><td>0.05497</td><td>0.0</td><td>5.19</td><td>0</td><td>0.515</td><td>5.985</td><td>45.4</td><td>4.8122</td><td>5</td><td>224</td></tr><tr><th>24</th><td>0.03306</td><td>0.0</td><td>5.19</td><td>0</td><td>0.515</td><td>6.059</td><td>37.3</td><td>4.8122</td><td>5</td><td>224</td></tr><tr><th>25</th><td>9.39063</td><td>0.0</td><td>18.1</td><td>0</td><td>0.74</td><td>5.627</td><td>93.9</td><td>1.8172</td><td>24</td><td>666</td></tr><tr><th>26</th><td>0.62356</td><td>0.0</td><td>6.2</td><td>1</td><td>0.507</td><td>6.879</td><td>77.7</td><td>3.2721</td><td>8</td><td>307</td></tr><tr><th>27</th><td>8.24809</td><td>0.0</td><td>18.1</td><td>0</td><td>0.713</td><td>7.393</td><td>99.3</td><td>2.4527</td><td>24</td><td>666</td></tr><tr><th>28</th><td>0.09178</td><td>0.0</td><td>4.05</td><td>0</td><td>0.51</td><td>6.416</td><td>84.1</td><td>2.6463</td><td>5</td><td>296</td></tr><tr><th>29</th><td>0.06127</td><td>40.0</td><td>6.41</td><td>1</td><td>0.447</td><td>6.826</td><td>27.6</td><td>4.8628</td><td>4</td><td>254</td></tr><tr><th>30</th><td>0.29916</td><td>20.0</td><td>6.96</td><td>0</td><td>0.464</td><td>5.856</td><td>42.1</td><td>4.429</td><td>3</td><td>223</td></tr><tr><th>&vellip;</th><td>&vellip;</td><td>&vellip;</td><td>&vellip;</td><td>&vellip;</td><td>&vellip;</td><td>&vellip;</td><td>&vellip;</td><td>&vellip;</td><td>&vellip;</td><td>&vellip;</td></tr></tbody></table>"
      ],
      "text/latex": [
       "\\begin{tabular}{r|ccccccccccc}\n",
       "\t& Crim & Zn & Indus & Chas & NOx & Rm & Age & Dis & Rad & Tax & \\\\\n",
       "\t\\hline\n",
       "\t& Float64 & Float64 & Float64 & Int64 & Float64 & Float64 & Float64 & Float64 & Int64 & Int64 & \\\\\n",
       "\t\\hline\n",
       "\t1 & 3.83684 & 0.0 & 18.1 & 0 & 0.77 & 6.251 & 91.1 & 2.2955 & 24 & 666 & $\\dots$ \\\\\n",
       "\t2 & 4.34879 & 0.0 & 18.1 & 0 & 0.58 & 6.167 & 84.0 & 3.0334 & 24 & 666 & $\\dots$ \\\\\n",
       "\t3 & 3.56868 & 0.0 & 18.1 & 0 & 0.58 & 6.437 & 75.0 & 2.8965 & 24 & 666 & $\\dots$ \\\\\n",
       "\t4 & 0.06905 & 0.0 & 2.18 & 0 & 0.458 & 7.147 & 54.2 & 6.0622 & 3 & 222 & $\\dots$ \\\\\n",
       "\t5 & 0.06076 & 0.0 & 11.93 & 0 & 0.573 & 6.976 & 91.0 & 2.1675 & 1 & 273 & $\\dots$ \\\\\n",
       "\t6 & 0.10574 & 0.0 & 27.74 & 0 & 0.609 & 5.983 & 98.8 & 1.8681 & 4 & 711 & $\\dots$ \\\\\n",
       "\t7 & 0.32264 & 0.0 & 21.89 & 0 & 0.624 & 5.942 & 93.5 & 1.9669 & 4 & 437 & $\\dots$ \\\\\n",
       "\t8 & 5.58107 & 0.0 & 18.1 & 0 & 0.713 & 6.436 & 87.9 & 2.3158 & 24 & 666 & $\\dots$ \\\\\n",
       "\t9 & 0.07244 & 60.0 & 1.69 & 0 & 0.411 & 5.884 & 18.5 & 10.7103 & 4 & 411 & $\\dots$ \\\\\n",
       "\t10 & 0.13642 & 0.0 & 10.59 & 0 & 0.489 & 5.891 & 22.3 & 3.9454 & 4 & 277 & $\\dots$ \\\\\n",
       "\t11 & 0.06466 & 70.0 & 2.24 & 0 & 0.4 & 6.345 & 20.1 & 7.8278 & 5 & 358 & $\\dots$ \\\\\n",
       "\t12 & 2.44953 & 0.0 & 19.58 & 0 & 0.605 & 6.402 & 95.2 & 2.2625 & 5 & 403 & $\\dots$ \\\\\n",
       "\t13 & 0.12579 & 45.0 & 3.44 & 0 & 0.437 & 6.556 & 29.1 & 4.5667 & 5 & 398 & $\\dots$ \\\\\n",
       "\t14 & 0.14231 & 0.0 & 10.01 & 0 & 0.547 & 6.254 & 84.2 & 2.2565 & 6 & 432 & $\\dots$ \\\\\n",
       "\t15 & 14.0507 & 0.0 & 18.1 & 0 & 0.597 & 6.657 & 100.0 & 1.5275 & 24 & 666 & $\\dots$ \\\\\n",
       "\t16 & 10.6718 & 0.0 & 18.1 & 0 & 0.74 & 6.459 & 94.8 & 1.9879 & 24 & 666 & $\\dots$ \\\\\n",
       "\t17 & 0.24103 & 0.0 & 7.38 & 0 & 0.493 & 6.083 & 43.7 & 5.4159 & 5 & 287 & $\\dots$ \\\\\n",
       "\t18 & 0.08707 & 0.0 & 12.83 & 0 & 0.437 & 6.14 & 45.8 & 4.0905 & 5 & 398 & $\\dots$ \\\\\n",
       "\t19 & 0.01538 & 90.0 & 3.75 & 0 & 0.394 & 7.454 & 34.2 & 6.3361 & 3 & 244 & $\\dots$ \\\\\n",
       "\t20 & 5.66998 & 0.0 & 18.1 & 1 & 0.631 & 6.683 & 96.8 & 1.3567 & 24 & 666 & $\\dots$ \\\\\n",
       "\t21 & 2.01019 & 0.0 & 19.58 & 0 & 0.605 & 7.929 & 96.2 & 2.0459 & 5 & 403 & $\\dots$ \\\\\n",
       "\t22 & 0.06263 & 0.0 & 11.93 & 0 & 0.573 & 6.593 & 69.1 & 2.4786 & 1 & 273 & $\\dots$ \\\\\n",
       "\t23 & 0.05497 & 0.0 & 5.19 & 0 & 0.515 & 5.985 & 45.4 & 4.8122 & 5 & 224 & $\\dots$ \\\\\n",
       "\t24 & 0.03306 & 0.0 & 5.19 & 0 & 0.515 & 6.059 & 37.3 & 4.8122 & 5 & 224 & $\\dots$ \\\\\n",
       "\t25 & 9.39063 & 0.0 & 18.1 & 0 & 0.74 & 5.627 & 93.9 & 1.8172 & 24 & 666 & $\\dots$ \\\\\n",
       "\t26 & 0.62356 & 0.0 & 6.2 & 1 & 0.507 & 6.879 & 77.7 & 3.2721 & 8 & 307 & $\\dots$ \\\\\n",
       "\t27 & 8.24809 & 0.0 & 18.1 & 0 & 0.713 & 7.393 & 99.3 & 2.4527 & 24 & 666 & $\\dots$ \\\\\n",
       "\t28 & 0.09178 & 0.0 & 4.05 & 0 & 0.51 & 6.416 & 84.1 & 2.6463 & 5 & 296 & $\\dots$ \\\\\n",
       "\t29 & 0.06127 & 40.0 & 6.41 & 1 & 0.447 & 6.826 & 27.6 & 4.8628 & 4 & 254 & $\\dots$ \\\\\n",
       "\t30 & 0.29916 & 20.0 & 6.96 & 0 & 0.464 & 5.856 & 42.1 & 4.429 & 3 & 223 & $\\dots$ \\\\\n",
       "\t$\\dots$ & $\\dots$ & $\\dots$ & $\\dots$ & $\\dots$ & $\\dots$ & $\\dots$ & $\\dots$ & $\\dots$ & $\\dots$ & $\\dots$ &  \\\\\n",
       "\\end{tabular}\n"
      ],
      "text/plain": [
       "101×14 DataFrame. Omitted printing of 7 columns\n",
       "│ Row │ Crim    │ Zn      │ Indus   │ Chas  │ NOx     │ Rm      │ Age     │\n",
       "│     │ \u001b[90mFloat64\u001b[39m │ \u001b[90mFloat64\u001b[39m │ \u001b[90mFloat64\u001b[39m │ \u001b[90mInt64\u001b[39m │ \u001b[90mFloat64\u001b[39m │ \u001b[90mFloat64\u001b[39m │ \u001b[90mFloat64\u001b[39m │\n",
       "├─────┼─────────┼─────────┼─────────┼───────┼─────────┼─────────┼─────────┤\n",
       "│ 1   │ 3.83684 │ 0.0     │ 18.1    │ 0     │ 0.77    │ 6.251   │ 91.1    │\n",
       "│ 2   │ 4.34879 │ 0.0     │ 18.1    │ 0     │ 0.58    │ 6.167   │ 84.0    │\n",
       "│ 3   │ 3.56868 │ 0.0     │ 18.1    │ 0     │ 0.58    │ 6.437   │ 75.0    │\n",
       "│ 4   │ 0.06905 │ 0.0     │ 2.18    │ 0     │ 0.458   │ 7.147   │ 54.2    │\n",
       "│ 5   │ 0.06076 │ 0.0     │ 11.93   │ 0     │ 0.573   │ 6.976   │ 91.0    │\n",
       "│ 6   │ 0.10574 │ 0.0     │ 27.74   │ 0     │ 0.609   │ 5.983   │ 98.8    │\n",
       "│ 7   │ 0.32264 │ 0.0     │ 21.89   │ 0     │ 0.624   │ 5.942   │ 93.5    │\n",
       "│ 8   │ 5.58107 │ 0.0     │ 18.1    │ 0     │ 0.713   │ 6.436   │ 87.9    │\n",
       "│ 9   │ 0.07244 │ 60.0    │ 1.69    │ 0     │ 0.411   │ 5.884   │ 18.5    │\n",
       "│ 10  │ 0.13642 │ 0.0     │ 10.59   │ 0     │ 0.489   │ 5.891   │ 22.3    │\n",
       "⋮\n",
       "│ 91  │ 11.9511 │ 0.0     │ 18.1    │ 0     │ 0.659   │ 5.608   │ 100.0   │\n",
       "│ 92  │ 0.11504 │ 0.0     │ 2.89    │ 0     │ 0.445   │ 6.163   │ 69.6    │\n",
       "│ 93  │ 0.10469 │ 40.0    │ 6.41    │ 1     │ 0.447   │ 7.267   │ 49.0    │\n",
       "│ 94  │ 0.0136  │ 75.0    │ 4.0     │ 0     │ 0.41    │ 5.888   │ 47.6    │\n",
       "│ 95  │ 0.62739 │ 0.0     │ 8.14    │ 0     │ 0.538   │ 5.834   │ 56.5    │\n",
       "│ 96  │ 4.89822 │ 0.0     │ 18.1    │ 0     │ 0.631   │ 4.97    │ 100.0   │\n",
       "│ 97  │ 0.07896 │ 0.0     │ 12.83   │ 0     │ 0.437   │ 6.273   │ 6.0     │\n",
       "│ 98  │ 0.19802 │ 0.0     │ 10.59   │ 0     │ 0.489   │ 6.182   │ 42.4    │\n",
       "│ 99  │ 0.01439 │ 60.0    │ 2.93    │ 0     │ 0.401   │ 6.604   │ 18.8    │\n",
       "│ 100 │ 0.49298 │ 0.0     │ 9.9     │ 0     │ 0.544   │ 6.635   │ 82.5    │\n",
       "│ 101 │ 15.288  │ 0.0     │ 18.1    │ 0     │ 0.671   │ 6.649   │ 93.3    │"
      ]
     },
     "execution_count": 6,
     "metadata": {},
     "output_type": "execute_result"
    }
   ],
   "source": [
    "train = boston[train_ind, :]\n",
    "test  = boston[test_ind, :]"
   ]
  },
  {
   "cell_type": "code",
   "execution_count": 7,
   "metadata": {},
   "outputs": [
    {
     "data": {
      "text/plain": [
       "StatsModels.TableRegressionModel{LinearModel{GLM.LmResp{Array{Float64,1}},GLM.DensePredChol{Float64,LinearAlgebra.Cholesky{Float64,Array{Float64,2}}}},Array{Float64,2}}\n",
       "\n",
       "MedV ~ 1 + Crim + Zn + Indus + Chas + NOx + Rm + Age + Dis + Rad + Tax + PTRatio + Black + LStat\n",
       "\n",
       "Coefficients:\n",
       "────────────────────────────────────────────────────────────────────────────────────\n",
       "                 Estimate  Std. Error    t value  Pr(>|t|)    Lower 95%    Upper 95%\n",
       "────────────────────────────────────────────────────────────────────────────────────\n",
       "(Intercept)   27.7517      5.46749      5.07578     <1e-6    17.0024     38.5011    \n",
       "Crim          -0.0958467   0.032551    -2.94451     0.0034   -0.159844   -0.0318498 \n",
       "Zn             0.0413372   0.014642     2.82319     0.0050    0.0125503   0.0701241 \n",
       "Indus         -0.0142893   0.0633038   -0.225725    0.8215   -0.138748    0.110169  \n",
       "Chas           3.11534     1.01368      3.07331     0.0023    1.1224      5.10828   \n",
       "NOx          -13.9683      4.06022     -3.44028     0.0006  -21.9509     -5.98569   \n",
       "Rm             4.62162     0.444279    10.4025      <1e-21    3.74814     5.49509   \n",
       "Age           -0.0143016   0.013819    -1.03492     0.3013   -0.0414705   0.0128673 \n",
       "Dis           -1.45158     0.20986     -6.91691     <1e-10   -1.86418    -1.03899   \n",
       "Rad            0.227732    0.0723233    3.1488      0.0018    0.0855407   0.369923  \n",
       "Tax           -0.0110044   0.00407882  -2.69793     0.0073   -0.0190235  -0.00298521\n",
       "PTRatio       -0.841632    0.140146    -6.00538     <1e-8    -1.11717    -0.566098  \n",
       "Black          0.00919919  0.00287933   3.19491     0.0015    0.0035383   0.0148601 \n",
       "LStat         -0.442649    0.0550258   -8.04439     <1e-13   -0.550832   -0.334465  \n",
       "────────────────────────────────────────────────────────────────────────────────────"
      ]
     },
     "execution_count": 7,
     "metadata": {},
     "output_type": "execute_result"
    }
   ],
   "source": [
    "model = GLM.lm(@formula(MedV ~ Crim + Zn + Indus + Chas + NOx + Rm + Age + Dis + Rad + Tax + PTRatio + Black + LStat), train)"
   ]
  },
  {
   "cell_type": "code",
   "execution_count": 8,
   "metadata": {},
   "outputs": [
    {
     "data": {
      "text/plain": [
       "14-element Array{Float64,1}:\n",
       "  27.75173394425151    \n",
       "  -0.09584672267143146 \n",
       "   0.04133721370884331 \n",
       "  -0.014289258194465932\n",
       "   3.115339269431253   \n",
       " -13.968286129329636   \n",
       "   4.621618177933468   \n",
       "  -0.01430159380651865 \n",
       "  -1.451581864297843   \n",
       "   0.22773194136784042 \n",
       "  -0.011004374224565835\n",
       "  -0.8416323562209069  \n",
       "   0.00919919464763773 \n",
       "  -0.4426487855073349  "
      ]
     },
     "execution_count": 8,
     "metadata": {},
     "output_type": "execute_result"
    }
   ],
   "source": [
    "intercept, slope = coef(model)"
   ]
  },
  {
   "cell_type": "markdown",
   "metadata": {},
   "source": [
    "## 預測"
   ]
  },
  {
   "cell_type": "code",
   "execution_count": 9,
   "metadata": {},
   "outputs": [
    {
     "data": {
      "text/plain": [
       "101-element Array{Union{Missing, Float64},1}:\n",
       " 18.704714477375852\n",
       " 19.44772354657918 \n",
       " 21.91960634184846 \n",
       " 28.565811267397205\n",
       " 28.068150679829603\n",
       " 14.125014448154326\n",
       " 16.219388552401867\n",
       " 17.002418082888532\n",
       " 16.98919765437718 \n",
       " 22.984721766483506\n",
       " 28.624313686271197\n",
       " 26.08546082220487 \n",
       " 32.17021757816417 \n",
       "  ⋮                \n",
       " 21.098714838460104\n",
       " 18.58613693952338 \n",
       " 24.751354819028045\n",
       " 36.3164666327769  \n",
       " 15.83641523222433 \n",
       " 19.433197966039565\n",
       " 20.961807915833624\n",
       " 25.84307552578898 \n",
       " 24.625873395847062\n",
       " 31.520118146449853\n",
       " 28.35430191935386 \n",
       " 18.285655424987908"
      ]
     },
     "execution_count": 9,
     "metadata": {},
     "output_type": "execute_result"
    }
   ],
   "source": [
    "predict(model, test)"
   ]
  },
  {
   "cell_type": "markdown",
   "metadata": {},
   "source": [
    "## 模型評估"
   ]
  },
  {
   "cell_type": "code",
   "execution_count": 10,
   "metadata": {},
   "outputs": [
    {
     "data": {
      "text/plain": [
       "0.7636945125316135"
      ]
     },
     "execution_count": 10,
     "metadata": {},
     "output_type": "execute_result"
    }
   ],
   "source": [
    "GLM.r2(model)"
   ]
  },
  {
   "cell_type": "code",
   "execution_count": 11,
   "metadata": {},
   "outputs": [
    {
     "data": {
      "text/plain": [
       "0.7558378083446851"
      ]
     },
     "execution_count": 11,
     "metadata": {},
     "output_type": "execute_result"
    }
   ],
   "source": [
    "GLM.adjr2(model)"
   ]
  },
  {
   "cell_type": "code",
   "execution_count": null,
   "metadata": {},
   "outputs": [],
   "source": []
  }
 ],
 "metadata": {
  "kernelspec": {
   "display_name": "Julia 1.2.0",
   "language": "julia",
   "name": "julia-1.2"
  },
  "language_info": {
   "file_extension": ".jl",
   "mimetype": "application/julia",
   "name": "julia",
   "version": "1.2.0"
  }
 },
 "nbformat": 4,
 "nbformat_minor": 4
}
