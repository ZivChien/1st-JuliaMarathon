{
 "cells": [
  {
   "cell_type": "markdown",
   "metadata": {},
   "source": [
    "# Julia 檔案處理與資料庫連線\n",
    "\n",
    "## Day 014 作業1：讀取 Nested Dict 內的資料\n",
    "\n",
    "Day 010 時我們介紹了字典 (Dict)，字典內的資料可以是巢狀 (nested) 的，包含較複雜的資料階層結構。在今天的下載檔 CityCountyData.json 是台灣各縣市鄉鎮區及路名的中英文資料，檔案為 JSON 格式，範例內容如下：\n",
    "\n",
    "```json\n",
    "    {\n",
    "        \"CityName\": \"臺北市\",\n",
    "        \"CityEngName\": \"Taipei City\",\n",
    "        \"AreaList\": [\n",
    "            {\n",
    "                \"ZipCode\": \"100\",\n",
    "                \"AreaName\": \"中正區\",\n",
    "                \"AreaEngName\": \"Zhongzheng Dist.\"\n",
    "            },\n",
    "            ...\n",
    "    }\n",
    "```\n",
    "\n",
    "作業內容為讀取 JSON 檔案，並列出台北市所有行政區的中英文名稱。範例答案將以 JSON.jl 套件作為示範。\n",
    "\n",
    "檔案資料來源：[台灣 縣市，鄉鎮，地址 中英文 JSON](https://github.com/donma/TaiwanAddressCityAreaRoadChineseEnglishJSON)"
   ]
  },
  {
   "cell_type": "code",
   "execution_count": 1,
   "metadata": {},
   "outputs": [],
   "source": [
    "using JSON"
   ]
  },
  {
   "cell_type": "markdown",
   "metadata": {},
   "source": [
    "列出所有台北市行政區的中英文名稱"
   ]
  },
  {
   "cell_type": "code",
   "execution_count": 2,
   "metadata": {},
   "outputs": [],
   "source": [
    "city_county_data = JSON.parsefile(\"CityCountyData.json\");"
   ]
  },
  {
   "cell_type": "markdown",
   "metadata": {},
   "source": [
    "## 作業2：將字典資料存為 JSON 檔\n",
    "\n",
    "作業2請產生字典 (Dict) 資料，並將字典資料存為 JSON 格式。請自行產生字典，也可使用下列的字串資料計算字數 (Day 010 作業程式)。\n",
    "\n",
    "【提示】可以參考今天範例程式中將陣列資料存為 JSON 格式的部分。"
   ]
  },
  {
   "cell_type": "code",
   "execution_count": 3,
   "metadata": {},
   "outputs": [
    {
     "data": {
      "text/plain": [
       "Dict{String,Int16} with 24 entries:\n",
       "  \"臺中…  => 1\n",
       "  \"屏東…  => 1\n",
       "  \"臺南…  => 1\n",
       "  \"花蓮…  => 1\n",
       "  \"金門…  => 1\n",
       "  \"彰化…  => 1\n",
       "  \"臺北…  => 1\n",
       "  \"新北…  => 1\n",
       "  \"南投…  => 1\n",
       "  \"澎湖…  => 1\n",
       "  \"釣魚…  => 1\n",
       "  \"臺東…  => 1\n",
       "  \"嘉義…  => 1\n",
       "  \"苗栗…  => 1\n",
       "  \"基隆…  => 1\n",
       "  \"桃園…  => 1\n",
       "  \"新竹…  => 1\n",
       "  \"南海…  => 1\n",
       "  \"新竹…  => 1\n",
       "  \"高雄…  => 1\n",
       "  \"連江…  => 1\n",
       "  \"嘉義…  => 1\n",
       "  \"宜蘭…  => 1\n",
       "  \"雲林…  => 1"
      ]
     },
     "execution_count": 3,
     "metadata": {},
     "output_type": "execute_result"
    }
   ],
   "source": [
    "d = Dict{String, Int16}()\n",
    "\n",
    "for c in city_county_data\n",
    "    #println(c)\n",
    "    #println(c[\"CityName\"])\n",
    "    if haskey(d, c[\"CityName\"])\n",
    "        d[c[\"CityName\"]] += 1\n",
    "    else\n",
    "        d[c[\"CityName\"]] = 1\n",
    "    end\n",
    "end\n",
    "\n",
    "d"
   ]
  },
  {
   "cell_type": "code",
   "execution_count": 4,
   "metadata": {},
   "outputs": [
    {
     "data": {
      "text/plain": [
       "\"{\\\"臺中市\\\":1,\\\"屏東縣\\\":1,\\\"臺南市\\\":1,\\\"花蓮縣\\\":1,\\\"金門縣\\\":1,\\\"彰化縣\\\":1,\\\"臺北市\\\":1,\\\"新北市\\\":1,\\\"南投縣\\\":1,\\\"澎湖縣\\\":1,\\\"釣魚臺\\\":1,\\\"臺東縣\\\":1,\\\"嘉義縣\\\":1,\\\"苗栗縣\\\":1,\\\"基隆市\\\":1,\\\"桃園市\\\":1,\\\"新竹市\\\":1,\\\"南海島\\\":1,\\\"新竹縣\\\":1,\\\"高雄市\\\":1,\\\"連江縣\\\":1,\\\"嘉義市\\\":1,\\\"宜蘭縣\\\":1,\\\"雲林縣\\\":1}\""
      ]
     },
     "execution_count": 4,
     "metadata": {},
     "output_type": "execute_result"
    }
   ],
   "source": [
    "d = JSON.json(d)"
   ]
  },
  {
   "cell_type": "code",
   "execution_count": 5,
   "metadata": {},
   "outputs": [],
   "source": [
    "f = open(\"city_county_data.json\", \"w\")\n",
    "println(f, d)\n",
    "close(f)"
   ]
  },
  {
   "cell_type": "code",
   "execution_count": null,
   "metadata": {},
   "outputs": [],
   "source": []
  }
 ],
 "metadata": {
  "kernelspec": {
   "display_name": "Julia 1.2.0",
   "language": "julia",
   "name": "julia-1.2"
  },
  "language_info": {
   "file_extension": ".jl",
   "mimetype": "application/julia",
   "name": "julia",
   "version": "1.2.0"
  }
 },
 "nbformat": 4,
 "nbformat_minor": 4
}
